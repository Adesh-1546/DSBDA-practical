{
 "cells": [
  {
   "cell_type": "code",
   "execution_count": null,
   "id": "e04b18fc-7227-42a1-9679-681f2730a98d",
   "metadata": {},
   "outputs": [],
   "source": [
    "import pandas as pd\n",
    "import numpy as np\n",
    "import matplotlib.pyplot as plt\n",
    "import seaborn as sns"
   ]
  },
  {
   "cell_type": "code",
   "execution_count": null,
   "id": "84a70c0f-122a-4bae-9623-5b43ff80d88d",
   "metadata": {},
   "outputs": [],
   "source": [
    "df = pd.read_csv('iris.csv')"
   ]
  },
  {
   "cell_type": "code",
   "execution_count": null,
   "id": "5e2e015c-5596-4056-9fbc-108a134f1849",
   "metadata": {},
   "outputs": [],
   "source": [
    "df.describe()"
   ]
  },
  {
   "cell_type": "code",
   "execution_count": null,
   "id": "45b6af63-5f1e-4d6d-890d-7fc71199c7df",
   "metadata": {},
   "outputs": [],
   "source": [
    "iris_groupby = df.groupby(by='species')"
   ]
  },
  {
   "cell_type": "code",
   "execution_count": null,
   "id": "47bff214-fb26-48c4-b96f-171478bc7a2a",
   "metadata": {},
   "outputs": [],
   "source": [
    "iris_groupby.std()"
   ]
  },
  {
   "cell_type": "code",
   "execution_count": null,
   "id": "82cf60fc-f193-488c-9948-e854668c718f",
   "metadata": {},
   "outputs": [],
   "source": [
    "iris_groupby.mean()"
   ]
  },
  {
   "cell_type": "code",
   "execution_count": null,
   "id": "b6fd6314-84db-4a8d-9797-345c8d170fd4",
   "metadata": {},
   "outputs": [],
   "source": [
    "iris_groupby.median()"
   ]
  },
  {
   "cell_type": "code",
   "execution_count": null,
   "id": "04e51bc5-19da-45e8-a5a7-d2bbef389ca4",
   "metadata": {},
   "outputs": [],
   "source": [
    "iris_groupby.min()"
   ]
  },
  {
   "cell_type": "code",
   "execution_count": null,
   "id": "6d0491ac-1fe0-4532-99a3-17d60a885475",
   "metadata": {},
   "outputs": [],
   "source": [
    "iris_groupby.max()"
   ]
  },
  {
   "cell_type": "code",
   "execution_count": null,
   "id": "134a2091-2f82-46d6-b092-005cc81d2a77",
   "metadata": {},
   "outputs": [],
   "source": [
    "iris_groupby.quantile()"
   ]
  }
 ],
 "metadata": {
  "kernelspec": {
   "display_name": "Python 3 (ipykernel)",
   "language": "python",
   "name": "python3"
  },
  "language_info": {
   "codemirror_mode": {
    "name": "ipython",
    "version": 3
   },
   "file_extension": ".py",
   "mimetype": "text/x-python",
   "name": "python",
   "nbconvert_exporter": "python",
   "pygments_lexer": "ipython3",
   "version": "3.11.2"
  }
 },
 "nbformat": 4,
 "nbformat_minor": 5
}
