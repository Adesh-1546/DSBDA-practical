{
 "cells": [
  {
   "cell_type": "code",
   "execution_count": null,
   "id": "82ed1e5a-09a3-4b3a-bb75-4be690a95cd3",
   "metadata": {},
   "outputs": [],
   "source": [
    "import pandas as pd\n",
    "import numpy as np\n",
    "import matplotlib.pyplot as plt\n",
    "import seaborn as sns"
   ]
  },
  {
   "cell_type": "code",
   "execution_count": null,
   "id": "2ca94a98-9b6f-4694-8caa-01d11497698b",
   "metadata": {},
   "outputs": [],
   "source": [
    "df = pd.read_csv('BostonHousing.csv')"
   ]
  },
  {
   "cell_type": "code",
   "execution_count": null,
   "id": "5399e197-ca21-40b4-8f27-b086eb512f6c",
   "metadata": {},
   "outputs": [],
   "source": [
    "df.head(5)"
   ]
  },
  {
   "cell_type": "code",
   "execution_count": null,
   "id": "8569fea4-6bb7-4f4e-9f9e-5d0311774805",
   "metadata": {},
   "outputs": [],
   "source": [
    "df.tail(5)"
   ]
  },
  {
   "cell_type": "code",
   "execution_count": null,
   "id": "9d263f7a-1466-44fc-87b4-b4841e9c8229",
   "metadata": {},
   "outputs": [],
   "source": [
    "print(df.isnull().sum())"
   ]
  },
  {
   "cell_type": "code",
   "execution_count": null,
   "id": "47043e4d-d47f-456c-b668-1b5975ba261f",
   "metadata": {},
   "outputs": [],
   "source": [
    "print(\"Shape of dataset : \",df.shape)"
   ]
  },
  {
   "cell_type": "code",
   "execution_count": null,
   "id": "81abd8e6-22ce-4378-b77c-169723e97bd0",
   "metadata": {},
   "outputs": [],
   "source": [
    "print(df.dtypes)"
   ]
  },
  {
   "cell_type": "code",
   "execution_count": null,
   "id": "811d5ac6-9329-4eda-9373-9c740669631c",
   "metadata": {},
   "outputs": [],
   "source": [
    "from sklearn.metrics import mean_squared_error rmse np.sqrt(mean_squared_error(y_test, y_pred)) print(\"Root Mean squared Error is:\") print(rmse)"
   ]
  },
  {
   "cell_type": "code",
   "execution_count": null,
   "id": "0d2715fc-438a-4168-b0ea-bfefdb3db8ea",
   "metadata": {},
   "outputs": [],
   "source": [
    "print(\"Training accuracy is:\") lr.score (X_train, y_train)"
   ]
  },
  {
   "cell_type": "code",
   "execution_count": null,
   "id": "0b00c554-e2df-44ab-9fed-dec22d8823d2",
   "metadata": {},
   "outputs": [],
   "source": [
    "print(\"Testing accuracy is:\") lr.score (X_test, y_test)"
   ]
  }
 ],
 "metadata": {
  "kernelspec": {
   "display_name": "Python 3 (ipykernel)",
   "language": "python",
   "name": "python3"
  },
  "language_info": {
   "codemirror_mode": {
    "name": "ipython",
    "version": 3
   },
   "file_extension": ".py",
   "mimetype": "text/x-python",
   "name": "python",
   "nbconvert_exporter": "python",
   "pygments_lexer": "ipython3",
   "version": "3.11.2"
  }
 },
 "nbformat": 4,
 "nbformat_minor": 5
}
