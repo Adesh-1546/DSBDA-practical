{
 "cells": [
  {
   "cell_type": "code",
   "execution_count": null,
   "id": "ee559dfd-dc36-4d3d-a20e-1d2d6789dd70",
   "metadata": {},
   "outputs": [],
   "source": [
    "Data Visualization I\n",
    "1. Use the inbuilt dataset &#39;titanic&#39;. The dataset contains 891 rows and contains\n",
    "information about the passengers who boarded the unfortunate Titanic ship. Use the\n",
    "Seaborn library to see if we can find any patterns in the data.\n",
    "2. Write a code to check how the price of the ticket (column name: &#39;fare&#39;) for each\n",
    "passenger is distributed by plotting a histogram."
   ]
  },
  {
   "cell_type": "code",
   "execution_count": null,
   "id": "36c06657-caf3-4e1a-bdc0-6b4fbe1541c4",
   "metadata": {},
   "outputs": [],
   "source": [
    "import pandas as pf\n",
    "import numpy as np\n",
    "import matplotlib.pyplot as plt\n",
    "import seaborn as sns\n",
    "import warnings\n",
    "warnings.filterwarnings('ignore')\n",
    "%matplotlib inline"
   ]
  },
  {
   "cell_type": "code",
   "execution_count": null,
   "id": "8f866acb-0899-433b-83d9-d0ba197bb17d",
   "metadata": {},
   "outputs": [],
   "source": [
    "df = pf.read_csv('/titanic.csv')"
   ]
  },
  {
   "cell_type": "code",
   "execution_count": null,
   "id": "7f17c9ae-c17d-4707-8d7d-7fdbc85c19fb",
   "metadata": {},
   "outputs": [],
   "source": [
    "df.shape"
   ]
  },
  {
   "cell_type": "code",
   "execution_count": null,
   "id": "046cd3dd-b89d-4df8-9a00-4ca631d03c10",
   "metadata": {},
   "outputs": [],
   "source": [
    "df.head(5)"
   ]
  },
  {
   "cell_type": "code",
   "execution_count": null,
   "id": "903ed593-fbc9-4ad8-a4bc-d0266877f9b3",
   "metadata": {},
   "outputs": [],
   "source": [
    "df.info()"
   ]
  },
  {
   "cell_type": "code",
   "execution_count": null,
   "id": "b8dae05b-bbab-41b6-afda-a6e0ac798a47",
   "metadata": {},
   "outputs": [],
   "source": [
    "df.describe()"
   ]
  },
  {
   "cell_type": "code",
   "execution_count": null,
   "id": "f0a1e44b-46c1-4f94-af4b-96d66038d873",
   "metadata": {},
   "outputs": [],
   "source": [
    "df.isnull().sum()"
   ]
  },
  {
   "cell_type": "code",
   "execution_count": null,
   "id": "fda9802f-98e1-4685-9b8c-52115bcc4ddf",
   "metadata": {},
   "outputs": [],
   "source": [
    "df[\"Age\"] = df[\"Age\"].fillna(df[\"Age\"].mean())"
   ]
  },
  {
   "cell_type": "code",
   "execution_count": null,
   "id": "8919a8cc-5839-4de2-b6fa-98d4d49b441e",
   "metadata": {},
   "outputs": [],
   "source": [
    "df.isnull().sum()"
   ]
  },
  {
   "cell_type": "code",
   "execution_count": null,
   "id": "27300126-f3c3-40f1-8635-6d3d666ed853",
   "metadata": {},
   "outputs": [],
   "source": [
    "df[\"Name\"]"
   ]
  },
  {
   "cell_type": "code",
   "execution_count": null,
   "id": "7dc085b2-435e-4162-83e7-48ee41e40fd5",
   "metadata": {},
   "outputs": [],
   "source": [
    "df.columns"
   ]
  },
  {
   "cell_type": "code",
   "execution_count": null,
   "id": "b77cdcbf-7b4f-4e36-be08-2519851fc7c9",
   "metadata": {},
   "outputs": [],
   "source": [
    "df[\"Sex\"].value_counts()"
   ]
  },
  {
   "cell_type": "code",
   "execution_count": null,
   "id": "e2c1effb-6360-4f91-9287-bb4134274bce",
   "metadata": {},
   "outputs": [],
   "source": [
    "df[\"Ticket\"].value_counts()"
   ]
  },
  {
   "cell_type": "code",
   "execution_count": null,
   "id": "1832bfb6-e1b1-4ef9-9d89-659d5d743079",
   "metadata": {},
   "outputs": [],
   "source": [
    "df[\"Cabin\"].value_counts()"
   ]
  },
  {
   "cell_type": "code",
   "execution_count": null,
   "id": "d4fb4980-f967-46a2-8f9f-a7fe9c20c6a6",
   "metadata": {},
   "outputs": [],
   "source": [
    "df[\"Embarked\"].value_counts()"
   ]
  },
  {
   "cell_type": "code",
   "execution_count": null,
   "id": "0a45042e-ea04-4eca-ae37-10685a28a79e",
   "metadata": {},
   "outputs": [],
   "source": [
    "def fun1(value):\n",
    "  if (value == \"male\"):\n",
    "    return 1\n",
    "  else:\n",
    "    return 0"
   ]
  },
  {
   "cell_type": "code",
   "execution_count": null,
   "id": "a0607649-a4a9-48f9-9909-fbd590c7d4a4",
   "metadata": {},
   "outputs": [],
   "source": [
    "def fun2(value):\n",
    "  if (value == \"S\"):\n",
    "    return 0 \n",
    "  elif (value == \"C\"):\n",
    "    return 1\n",
    "  elif (value == \"Q\"):\n",
    "    return 2\n",
    "  else:\n",
    "    return 0    "
   ]
  },
  {
   "cell_type": "code",
   "execution_count": null,
   "id": "54b66a57-ce1f-4c5a-a429-ffedcd471e16",
   "metadata": {},
   "outputs": [],
   "source": [
    "df[\"Sex\"] = df[\"Sex\"].apply(fun1)"
   ]
  },
  {
   "cell_type": "code",
   "execution_count": null,
   "id": "760f932b-761a-4cea-9414-11fab7bb660a",
   "metadata": {},
   "outputs": [],
   "source": [
    "df[\"Embarked\"] = df[\"Embarked\"].apply(fun2)"
   ]
  },
  {
   "cell_type": "code",
   "execution_count": null,
   "id": "1070e5af-f861-423b-ab2c-fc52a5b93ab4",
   "metadata": {},
   "outputs": [],
   "source": [
    "df.isnull().sum()"
   ]
  },
  {
   "cell_type": "code",
   "execution_count": null,
   "id": "a8deb10e-3be6-48cd-a8b7-eb5bb187c3d8",
   "metadata": {},
   "outputs": [],
   "source": [
    "df = df.drop('Cabin', axis=1)"
   ]
  },
  {
   "cell_type": "code",
   "execution_count": null,
   "id": "d8b7cb68-0202-462a-bf71-f04bfaca1247",
   "metadata": {},
   "outputs": [],
   "source": [
    "df.shape"
   ]
  },
  {
   "cell_type": "code",
   "execution_count": null,
   "id": "1622388a-6c11-43ac-afa1-7be786d3eb1f",
   "metadata": {},
   "outputs": [],
   "source": [
    "plt.figure(figsize=(10,7))\n",
    "sns.heatmap(df.select_dtypes(include='number').corr(), annot=True)  "
   ]
  },
  {
   "cell_type": "code",
   "execution_count": null,
   "id": "93e44151-289e-4098-8577-4aa233837bad",
   "metadata": {},
   "outputs": [],
   "source": [
    "df.info()"
   ]
  },
  {
   "cell_type": "code",
   "execution_count": null,
   "id": "1a9c814d-7daa-43bf-a038-c73512773e25",
   "metadata": {},
   "outputs": [],
   "source": [
    "sns.countplot(data = df, x = \"Survived\", palette={\"0\": \"Steelblue\",\"1\":\"orange\"})"
   ]
  },
  {
   "cell_type": "code",
   "execution_count": null,
   "id": "7e2eb3c1-3847-4c19-ac9e-e2e71f05f284",
   "metadata": {},
   "outputs": [],
   "source": [
    "sns.countplot(data = df ,x = \"Pclass\", hue = \"Survived\")\n",
    "plt.show()"
   ]
  },
  {
   "cell_type": "code",
   "execution_count": null,
   "id": "74719fa7-91b4-4466-8331-9599d0494224",
   "metadata": {},
   "outputs": [],
   "source": [
    "sns.countplot(data = df, x =\"Sex\", hue =\"Survived\")\n",
    "plt.show()"
   ]
  },
  {
   "cell_type": "code",
   "execution_count": null,
   "id": "42ee7de8-4b3e-4f79-832d-71d92182975b",
   "metadata": {},
   "outputs": [],
   "source": [
    "sns.histplot(df[\"Fare\"])\n",
    "plt.show()"
   ]
  }
 ],
 "metadata": {
  "kernelspec": {
   "display_name": "Python 3 (ipykernel)",
   "language": "python",
   "name": "python3"
  },
  "language_info": {
   "codemirror_mode": {
    "name": "ipython",
    "version": 3
   },
   "file_extension": ".py",
   "mimetype": "text/x-python",
   "name": "python",
   "nbconvert_exporter": "python",
   "pygments_lexer": "ipython3",
   "version": "3.11.2"
  }
 },
 "nbformat": 4,
 "nbformat_minor": 5
}
